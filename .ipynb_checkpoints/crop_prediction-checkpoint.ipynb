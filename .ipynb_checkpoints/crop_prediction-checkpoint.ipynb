{
 "cells": [
  {
   "cell_type": "code",
   "execution_count": 1,
   "metadata": {},
   "outputs": [
    {
     "data": {
      "text/html": [
       "<div>\n",
       "<style scoped>\n",
       "    .dataframe tbody tr th:only-of-type {\n",
       "        vertical-align: middle;\n",
       "    }\n",
       "\n",
       "    .dataframe tbody tr th {\n",
       "        vertical-align: top;\n",
       "    }\n",
       "\n",
       "    .dataframe thead th {\n",
       "        text-align: right;\n",
       "    }\n",
       "</style>\n",
       "<table border=\"1\" class=\"dataframe\">\n",
       "  <thead>\n",
       "    <tr style=\"text-align: right;\">\n",
       "      <th></th>\n",
       "      <th>temperature</th>\n",
       "      <th>humidity</th>\n",
       "      <th>ph</th>\n",
       "      <th>rainfall</th>\n",
       "      <th>label</th>\n",
       "    </tr>\n",
       "  </thead>\n",
       "  <tbody>\n",
       "    <tr>\n",
       "      <th>0</th>\n",
       "      <td>20.879744</td>\n",
       "      <td>82.002744</td>\n",
       "      <td>6.502985</td>\n",
       "      <td>202.935536</td>\n",
       "      <td>rice</td>\n",
       "    </tr>\n",
       "    <tr>\n",
       "      <th>1</th>\n",
       "      <td>21.770462</td>\n",
       "      <td>80.319644</td>\n",
       "      <td>7.038096</td>\n",
       "      <td>226.655537</td>\n",
       "      <td>rice</td>\n",
       "    </tr>\n",
       "    <tr>\n",
       "      <th>2</th>\n",
       "      <td>23.004459</td>\n",
       "      <td>82.320763</td>\n",
       "      <td>7.840207</td>\n",
       "      <td>263.964248</td>\n",
       "      <td>rice</td>\n",
       "    </tr>\n",
       "    <tr>\n",
       "      <th>3</th>\n",
       "      <td>26.491096</td>\n",
       "      <td>80.158363</td>\n",
       "      <td>6.980401</td>\n",
       "      <td>242.864034</td>\n",
       "      <td>rice</td>\n",
       "    </tr>\n",
       "    <tr>\n",
       "      <th>4</th>\n",
       "      <td>20.130175</td>\n",
       "      <td>81.604873</td>\n",
       "      <td>7.628473</td>\n",
       "      <td>262.717340</td>\n",
       "      <td>rice</td>\n",
       "    </tr>\n",
       "  </tbody>\n",
       "</table>\n",
       "</div>"
      ],
      "text/plain": [
       "   temperature   humidity        ph    rainfall label\n",
       "0    20.879744  82.002744  6.502985  202.935536  rice\n",
       "1    21.770462  80.319644  7.038096  226.655537  rice\n",
       "2    23.004459  82.320763  7.840207  263.964248  rice\n",
       "3    26.491096  80.158363  6.980401  242.864034  rice\n",
       "4    20.130175  81.604873  7.628473  262.717340  rice"
      ]
     },
     "execution_count": 1,
     "metadata": {},
     "output_type": "execute_result"
    }
   ],
   "source": [
    "import pandas as pd\n",
    "import numpy as np\n",
    "\n",
    "from sklearn import metrics\n",
    "from sklearn.model_selection import train_test_split\n",
    "\n",
    "data=pd.read_csv(\"./cpdata.csv\")\n",
    "data.head ()"
   ]
  },
  {
   "cell_type": "code",
   "execution_count": 2,
   "metadata": {},
   "outputs": [
    {
     "data": {
      "text/plain": [
       "array(['rice', 'wheat', 'Mung Bean', 'Tea', 'millet', 'maize', 'Lentil',\n",
       "       'Jute', 'Coffee', 'Cotton', 'Ground Nut', 'Peas', 'Rubber',\n",
       "       'Sugarcane', 'Tobacco', 'Kidney Beans', 'Moth Beans', 'Coconut',\n",
       "       'Black gram', 'Adzuki Beans', 'Pigeon Peas', 'Chickpea', 'banana',\n",
       "       'grapes', 'apple', 'mango', 'muskmelon', 'orange', 'papaya',\n",
       "       'pomegranate', 'watermelon'], dtype=object)"
      ]
     },
     "execution_count": 2,
     "metadata": {},
     "output_type": "execute_result"
    }
   ],
   "source": [
    "data[\"label\"].unique()"
   ]
  },
  {
   "cell_type": "code",
   "execution_count": 3,
   "metadata": {},
   "outputs": [
    {
     "name": "stdout",
     "output_type": "stream",
     "text": [
      "      temperature   humidity        ph    rainfall\n",
      "0       20.879744  82.002744  6.502985  202.935536\n",
      "1       21.770462  80.319644  7.038096  226.655537\n",
      "2       23.004459  82.320763  7.840207  263.964248\n",
      "3       26.491096  80.158363  6.980401  242.864034\n",
      "4       20.130175  81.604873  7.628473  262.717340\n",
      "5       23.058049  83.370118  7.073454  251.055000\n",
      "6       22.708838  82.639414  5.700806  271.324860\n",
      "7       20.277744  82.894086  5.718627  241.974195\n",
      "8       24.515881  83.535216  6.685346  230.446236\n",
      "9       23.223974  83.033227  6.336254  221.209196\n",
      "10      26.527235  81.417538  5.386168  264.614870\n",
      "11      23.978982  81.450616  7.502834  250.083234\n",
      "12      26.800796  80.886848  5.108682  284.436457\n",
      "13      24.014976  82.056872  6.984354  185.277339\n",
      "14      25.665852  80.663850  6.948020  209.586971\n",
      "15      24.282094  80.300256  7.042299  231.086335\n",
      "16      21.587118  82.788371  6.249051  276.655246\n",
      "17      23.793920  80.418180  6.970860  206.261186\n",
      "18      21.865252  80.192301  5.953933  224.555017\n",
      "19      23.579436  83.587603  5.853932  291.298662\n",
      "20      21.325042  80.474764  6.442475  185.497473\n",
      "21      25.157455  83.117135  5.070176  231.384316\n",
      "22      21.947667  80.973842  6.012633  213.356092\n",
      "23      21.052536  82.678395  6.254028  233.107582\n",
      "24      23.483813  81.332651  7.375483  224.058116\n",
      "25      25.075635  80.523891  7.778915  257.003887\n",
      "26      26.359272  84.044036  6.286500  271.358614\n",
      "27      24.529227  80.544986  7.070960  260.263403\n",
      "28      20.775761  84.497744  6.244841  240.081065\n",
      "29      22.301574  80.644165  6.043305  197.979122\n",
      "...           ...        ...       ...         ...\n",
      "3070    26.260287  86.145859  6.769894   58.978788\n",
      "3071    24.901239  87.207729  6.744966   46.592073\n",
      "3072    24.847408  89.204546  6.391858   59.679272\n",
      "3073    26.982128  86.700683  6.770434   42.912922\n",
      "3074    26.904357  86.254262  6.727468   59.759800\n",
      "3075    25.864755  86.674680  6.662245   41.165548\n",
      "3076    26.706078  81.141495  6.944640   51.510336\n",
      "3077    26.440195  80.919343  6.507111   47.818476\n",
      "3078    26.283443  84.424789  6.520663   50.786697\n",
      "3079    26.843661  83.850400  6.106501   40.228644\n",
      "3080    26.039672  83.986244  6.277484   43.877123\n",
      "3081    24.929948  85.008024  6.195142   48.758595\n",
      "3082    25.507370  84.243402  6.792036   44.206900\n",
      "3083    25.443839  87.939231  6.472756   57.515497\n",
      "3084    26.125889  86.550794  6.000976   40.712101\n",
      "3085    25.104748  87.526762  6.587791   59.265194\n",
      "3086    26.275206  86.632496  6.956509   54.387485\n",
      "3087    26.270616  83.091945  6.259087   46.768375\n",
      "3088    26.736908  87.824302  6.747538   47.464470\n",
      "3089    25.047469  85.566728  6.932537   56.724967\n",
      "3090    24.693689  85.569676  6.353107   48.993908\n",
      "3091    24.543570  84.608083  6.211749   42.006603\n",
      "3092    25.897623  81.966648  6.277245   54.499601\n",
      "3093    26.633312  84.317568  6.560444   56.318662\n",
      "3094    25.357947  80.458463  6.903020   47.720782\n",
      "3095    25.287846  89.636679  6.765095   58.286977\n",
      "3096    26.638386  84.695469  6.189214   48.324286\n",
      "3097    25.331045  84.305338  6.904242   41.532187\n",
      "3098    26.897502  83.892415  6.463271   43.971937\n",
      "3099    26.986037  89.413849  6.260839   58.548767\n",
      "\n",
      "[3100 rows x 4 columns]\n",
      "0             rice\n",
      "1             rice\n",
      "2             rice\n",
      "3             rice\n",
      "4             rice\n",
      "5             rice\n",
      "6             rice\n",
      "7             rice\n",
      "8             rice\n",
      "9             rice\n",
      "10            rice\n",
      "11            rice\n",
      "12            rice\n",
      "13            rice\n",
      "14            rice\n",
      "15            rice\n",
      "16            rice\n",
      "17            rice\n",
      "18            rice\n",
      "19            rice\n",
      "20            rice\n",
      "21            rice\n",
      "22            rice\n",
      "23            rice\n",
      "24            rice\n",
      "25            rice\n",
      "26            rice\n",
      "27            rice\n",
      "28            rice\n",
      "29            rice\n",
      "           ...    \n",
      "3070    watermelon\n",
      "3071    watermelon\n",
      "3072    watermelon\n",
      "3073    watermelon\n",
      "3074    watermelon\n",
      "3075    watermelon\n",
      "3076    watermelon\n",
      "3077    watermelon\n",
      "3078    watermelon\n",
      "3079    watermelon\n",
      "3080    watermelon\n",
      "3081    watermelon\n",
      "3082    watermelon\n",
      "3083    watermelon\n",
      "3084    watermelon\n",
      "3085    watermelon\n",
      "3086    watermelon\n",
      "3087    watermelon\n",
      "3088    watermelon\n",
      "3089    watermelon\n",
      "3090    watermelon\n",
      "3091    watermelon\n",
      "3092    watermelon\n",
      "3093    watermelon\n",
      "3094    watermelon\n",
      "3095    watermelon\n",
      "3096    watermelon\n",
      "3097    watermelon\n",
      "3098    watermelon\n",
      "3099    watermelon\n",
      "Name: label, Length: 3100, dtype: object\n"
     ]
    }
   ],
   "source": [
    "#drop cropname column and store remaining columns inX\n",
    "X=data.drop(['label'], axis=1)\n",
    "#store the crop name column inY\n",
    "Y=data['label']\n",
    "print (X)\n",
    "print (Y)"
   ]
  },
  {
   "cell_type": "code",
   "execution_count": 4,
   "metadata": {},
   "outputs": [],
   "source": [
    "X_train, X_test, y_train, y_test = train_test_split(X, Y,test_size=0.1,random_state=0) "
   ]
  },
  {
   "cell_type": "markdown",
   "metadata": {},
   "source": [
    "# Making use of *Gaussian Naive Bayes* for measuring Accuracy of the model"
   ]
  },
  {
   "cell_type": "code",
   "execution_count": 5,
   "metadata": {},
   "outputs": [
    {
     "name": "stdout",
     "output_type": "stream",
     "text": [
      "Accuracy of GaussianNB model:  0.9290322580645162\n"
     ]
    }
   ],
   "source": [
    "from sklearn.naive_bayes import GaussianNB\n",
    "\n",
    "gnb=GaussianNB()\n",
    "\n",
    "gnb.fit(X_train, y_train)\n",
    "\n",
    "y_pred=gnb.predict(X_test)\n",
    "\n",
    "accGNB=metrics.accuracy_score(y_test, y_pred)\n",
    "\n",
    "print(\"Accuracy of GaussianNB model: \", accGNB)"
   ]
  },
  {
   "cell_type": "markdown",
   "metadata": {},
   "source": [
    "# Making use of *Support Vector Machine (SVM)* for measuring Accuracy of the model"
   ]
  },
  {
   "cell_type": "code",
   "execution_count": 6,
   "metadata": {},
   "outputs": [
    {
     "name": "stderr",
     "output_type": "stream",
     "text": [
      "C:\\Users\\pusth\\Anaconda3\\lib\\site-packages\\sklearn\\svm\\base.py:193: FutureWarning: The default value of gamma will change from 'auto' to 'scale' in version 0.22 to account better for unscaled features. Set gamma explicitly to 'auto' or 'scale' to avoid this warning.\n",
      "  \"avoid this warning.\", FutureWarning)\n"
     ]
    },
    {
     "name": "stdout",
     "output_type": "stream",
     "text": [
      "Accuracy of SVM model:  0.6870967741935484\n"
     ]
    }
   ],
   "source": [
    "from sklearn import svm\n",
    "\n",
    "clfs=svm. SVC()\n",
    "\n",
    "clfs.fit(X_train,y_train)\n",
    "\n",
    "y_pred=clfs.predict(X_test)\n",
    "\n",
    "accSVM=metrics.accuracy_score(y_test, y_pred)\n",
    "print(\"Accuracy of SVM model: \", accSVM)"
   ]
  },
  {
   "cell_type": "markdown",
   "metadata": {},
   "source": [
    "# Making use of *Random Forest* for measuring Accuracy of the model"
   ]
  },
  {
   "cell_type": "code",
   "execution_count": 7,
   "metadata": {},
   "outputs": [
    {
     "name": "stdout",
     "output_type": "stream",
     "text": [
      "Accuracy of RandomForest model:  0.9548387096774194\n"
     ]
    }
   ],
   "source": [
    "from sklearn.ensemble import RandomForestClassifier\n",
    "\n",
    "rf = RandomForestClassifier(n_estimators=140)\n",
    "\n",
    "rf.fit(X_train, y_train)\n",
    "\n",
    "y_pred = rf.predict(X_test)\n",
    "\n",
    "accRF = metrics.accuracy_score(y_test, y_pred)\n",
    "print (\"Accuracy of RandomForest model: \", accRF)"
   ]
  },
  {
   "cell_type": "markdown",
   "metadata": {},
   "source": [
    "# Making use of *Logostic Regression (LR)* for measuring Accuracy of the model"
   ]
  },
  {
   "cell_type": "code",
   "execution_count": 8,
   "metadata": {},
   "outputs": [
    {
     "name": "stdout",
     "output_type": "stream",
     "text": [
      "Accuracy of LogisticRegression model:  0.632258064516129\n"
     ]
    },
    {
     "name": "stderr",
     "output_type": "stream",
     "text": [
      "C:\\Users\\pusth\\Anaconda3\\lib\\site-packages\\sklearn\\linear_model\\logistic.py:432: FutureWarning: Default solver will be changed to 'lbfgs' in 0.22. Specify a solver to silence this warning.\n",
      "  FutureWarning)\n",
      "C:\\Users\\pusth\\Anaconda3\\lib\\site-packages\\sklearn\\linear_model\\logistic.py:469: FutureWarning: Default multi_class will be changed to 'auto' in 0.22. Specify the multi_class option to silence this warning.\n",
      "  \"this warning.\", FutureWarning)\n"
     ]
    }
   ],
   "source": [
    "from sklearn.linear_model import LogisticRegression\n",
    "\n",
    "clf=LogisticRegression()\n",
    "\n",
    "clf.fit(X_train,y_train)\n",
    "\n",
    "y_pred=clf.predict(X_test)\n",
    "\n",
    "accLR=metrics.accuracy_score(y_test, y_pred)\n",
    "print(\"Accuracy of LogisticRegression model: \", accLR)"
   ]
  },
  {
   "cell_type": "markdown",
   "metadata": {},
   "source": [
    "# Comparitive Accuracy Result"
   ]
  },
  {
   "cell_type": "code",
   "execution_count": 9,
   "metadata": {},
   "outputs": [
    {
     "data": {
      "text/plain": [
       "<Figure size 640x480 with 1 Axes>"
      ]
     },
     "metadata": {},
     "output_type": "display_data"
    }
   ],
   "source": [
    "import matplotlib.pyplot as plt\n",
    "objects=('GNB','SVM', 'RF', 'LR')\n",
    "y_pos=np.arange (len(objects))\n",
    "\n",
    "performance=[accGNB, accSVM, accRF, accLR]\n",
    "plt.bar(y_pos, performance, align='center', alpha=0.5)\n",
    "plt.xticks (y_pos, objects)\n",
    "plt.ylabel('Accuracy')\n",
    "plt.title('GaussianNB vs SVM vs RandomForestClassifier vs LogisticRegression')\n",
    "plt.show()"
   ]
  },
  {
   "cell_type": "markdown",
   "metadata": {},
   "source": [
    "# Therefore we use Random Forest Algorithm for our Model"
   ]
  },
  {
   "cell_type": "code",
   "execution_count": 10,
   "metadata": {},
   "outputs": [
    {
     "name": "stdout",
     "output_type": "stream",
     "text": [
      "wheat\n"
     ]
    }
   ],
   "source": [
    "# System Test\n",
    "\n",
    "test_vector = np.reshape(np.array([22.69094467,53.86422324,6.213296759,140.4013334]),(1,4)) \n",
    "p=rf.predict(test_vector)\n",
    "\n",
    "print(p[0])"
   ]
  },
  {
   "cell_type": "markdown",
   "metadata": {},
   "source": [
    "# We can have an accurate crop prediction model by using the Random Forest algorithm.\n",
    "\n",
    "# This model helps agricultural sector, especially the farmers to take the right decision for right crop and there by maximize profits."
   ]
  }
 ],
 "metadata": {
  "kernelspec": {
   "display_name": "Python 3",
   "language": "python",
   "name": "python3"
  },
  "language_info": {
   "codemirror_mode": {
    "name": "ipython",
    "version": 3
   },
   "file_extension": ".py",
   "mimetype": "text/x-python",
   "name": "python",
   "nbconvert_exporter": "python",
   "pygments_lexer": "ipython3",
   "version": "3.7.3"
  }
 },
 "nbformat": 4,
 "nbformat_minor": 2
}
